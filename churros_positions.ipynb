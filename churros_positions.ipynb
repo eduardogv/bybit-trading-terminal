{
 "cells": [
  {
   "cell_type": "code",
   "execution_count": 1,
   "metadata": {},
   "outputs": [],
   "source": [
    "from pybit.unified_trading import HTTP\n",
    "from pybit.exceptions import InvalidRequestError\n",
    "\n",
    "from keys import api_key, secret_key\n",
    "api_key_imported = api_key\n",
    "secret_key_imported = secret_key\n",
    "\n",
    "import pandas as pd"
   ]
  },
  {
   "cell_type": "code",
   "execution_count": 11,
   "metadata": {},
   "outputs": [],
   "source": [
    "class Positions():\n",
    "\n",
    "    def __init__(self):    \n",
    "\n",
    "        # Authenticated\n",
    "        self.__session = HTTP(\n",
    "        testnet=False,\n",
    "        api_key=api_key_imported,\n",
    "        api_secret=secret_key_imported,\n",
    "        )\n",
    "\n",
    "        self.__account_balance = \"0\"\n",
    "\n",
    "\n",
    "    def get_total_positions(self):\n",
    "        response = self.__session.get_positions(\n",
    "        category=\"linear\",\n",
    "        #symbol=\"BNBUSDT\",\n",
    "        settleCoin = \"USDT\"\n",
    "        )\n",
    "        \n",
    "        print(response)\n",
    "        return response"
   ]
  },
  {
   "cell_type": "code",
   "execution_count": 12,
   "metadata": {},
   "outputs": [
    {
     "name": "stdout",
     "output_type": "stream",
     "text": [
      "{'retCode': 0, 'retMsg': 'OK', 'result': {'list': [], 'nextPageCursor': '', 'category': 'linear'}, 'retExtInfo': {}, 'time': 1684639121263}\n"
     ]
    }
   ],
   "source": [
    "aa = Positions()\n",
    "positions = aa.get_total_positions()"
   ]
  },
  {
   "cell_type": "code",
   "execution_count": 16,
   "metadata": {},
   "outputs": [],
   "source": [
    "positions = {\n",
    "    \"retCode\": 0,\n",
    "    \"retMsg\": \"OK\",\n",
    "    \"result\": {\n",
    "        \"nextPageCursor\": \"updateAt%3D1672279322668\",\n",
    "        \"category\": \"linear\",\n",
    "        \"list\": [\n",
    "            {\n",
    "                \"symbol\": \"XRPUSDT\",\n",
    "                \"leverage\": \"10\",\n",
    "                \"avgPrice\": \"0.3615\",\n",
    "                \"liqPrice\": \"0.0001\",\n",
    "                \"riskLimitValue\": \"200000\",\n",
    "                \"takeProfit\": \"\",\n",
    "                \"positionValue\": \"36.15\",\n",
    "                \"tpslMode\": \"Full\",\n",
    "                \"riskId\": 41,\n",
    "                \"trailingStop\": \"0\",\n",
    "                \"unrealisedPnl\": \"-1.83\",\n",
    "                \"markPrice\": \"0.3432\",\n",
    "                \"cumRealisedPnl\": \"0.48805876\",\n",
    "                \"positionMM\": \"0.381021\",\n",
    "                \"createdTime\": \"1672121182216\",\n",
    "                \"positionIdx\": 0,\n",
    "                \"positionIM\": \"3.634521\",\n",
    "                \"updatedTime\": \"1672279322668\",\n",
    "                \"side\": \"Buy\",\n",
    "                \"bustPrice\": \"\",\n",
    "                \"size\": \"100\",\n",
    "                \"positionStatus\": \"Normal\",\n",
    "                \"stopLoss\": \"\",\n",
    "                \"tradeMode\": 0,\n",
    "                \"adlRankIndicator\": 2\n",
    "            }\n",
    "        ]\n",
    "    },\n",
    "    \"retExtInfo\": {},\n",
    "    \"time\": 1672280219169\n",
    "}\n",
    "\n"
   ]
  },
  {
   "cell_type": "code",
   "execution_count": 20,
   "metadata": {},
   "outputs": [],
   "source": [
    "positions = positions[\"result\"][\"list\"]"
   ]
  },
  {
   "cell_type": "code",
   "execution_count": 26,
   "metadata": {},
   "outputs": [],
   "source": [
    "df = pd.DataFrame.from_dict(positions)"
   ]
  },
  {
   "cell_type": "code",
   "execution_count": 27,
   "metadata": {},
   "outputs": [
    {
     "data": {
      "text/html": [
       "<div>\n",
       "<style scoped>\n",
       "    .dataframe tbody tr th:only-of-type {\n",
       "        vertical-align: middle;\n",
       "    }\n",
       "\n",
       "    .dataframe tbody tr th {\n",
       "        vertical-align: top;\n",
       "    }\n",
       "\n",
       "    .dataframe thead th {\n",
       "        text-align: right;\n",
       "    }\n",
       "</style>\n",
       "<table border=\"1\" class=\"dataframe\">\n",
       "  <thead>\n",
       "    <tr style=\"text-align: right;\">\n",
       "      <th></th>\n",
       "      <th>symbol</th>\n",
       "      <th>leverage</th>\n",
       "      <th>avgPrice</th>\n",
       "      <th>liqPrice</th>\n",
       "      <th>riskLimitValue</th>\n",
       "      <th>takeProfit</th>\n",
       "      <th>positionValue</th>\n",
       "      <th>tpslMode</th>\n",
       "      <th>riskId</th>\n",
       "      <th>trailingStop</th>\n",
       "      <th>...</th>\n",
       "      <th>positionIdx</th>\n",
       "      <th>positionIM</th>\n",
       "      <th>updatedTime</th>\n",
       "      <th>side</th>\n",
       "      <th>bustPrice</th>\n",
       "      <th>size</th>\n",
       "      <th>positionStatus</th>\n",
       "      <th>stopLoss</th>\n",
       "      <th>tradeMode</th>\n",
       "      <th>adlRankIndicator</th>\n",
       "    </tr>\n",
       "  </thead>\n",
       "  <tbody>\n",
       "    <tr>\n",
       "      <th>0</th>\n",
       "      <td>XRPUSDT</td>\n",
       "      <td>10</td>\n",
       "      <td>0.3615</td>\n",
       "      <td>0.0001</td>\n",
       "      <td>200000</td>\n",
       "      <td></td>\n",
       "      <td>36.15</td>\n",
       "      <td>Full</td>\n",
       "      <td>41</td>\n",
       "      <td>0</td>\n",
       "      <td>...</td>\n",
       "      <td>0</td>\n",
       "      <td>3.634521</td>\n",
       "      <td>1672279322668</td>\n",
       "      <td>Buy</td>\n",
       "      <td></td>\n",
       "      <td>100</td>\n",
       "      <td>Normal</td>\n",
       "      <td></td>\n",
       "      <td>0</td>\n",
       "      <td>2</td>\n",
       "    </tr>\n",
       "  </tbody>\n",
       "</table>\n",
       "<p>1 rows × 25 columns</p>\n",
       "</div>"
      ],
      "text/plain": [
       "    symbol leverage avgPrice liqPrice riskLimitValue takeProfit positionValue   \n",
       "0  XRPUSDT       10   0.3615   0.0001         200000                    36.15  \\\n",
       "\n",
       "  tpslMode  riskId trailingStop  ... positionIdx positionIM    updatedTime   \n",
       "0     Full      41            0  ...           0   3.634521  1672279322668  \\\n",
       "\n",
       "  side bustPrice  size positionStatus stopLoss tradeMode adlRankIndicator  \n",
       "0  Buy             100         Normal                  0                2  \n",
       "\n",
       "[1 rows x 25 columns]"
      ]
     },
     "execution_count": 27,
     "metadata": {},
     "output_type": "execute_result"
    }
   ],
   "source": [
    "df"
   ]
  },
  {
   "cell_type": "code",
   "execution_count": 32,
   "metadata": {},
   "outputs": [],
   "source": [
    "df = df[[\"symbol\", \"avgPrice\", \"side\", \"stopLoss\"]]"
   ]
  },
  {
   "cell_type": "code",
   "execution_count": 33,
   "metadata": {},
   "outputs": [
    {
     "data": {
      "text/html": [
       "<div>\n",
       "<style scoped>\n",
       "    .dataframe tbody tr th:only-of-type {\n",
       "        vertical-align: middle;\n",
       "    }\n",
       "\n",
       "    .dataframe tbody tr th {\n",
       "        vertical-align: top;\n",
       "    }\n",
       "\n",
       "    .dataframe thead th {\n",
       "        text-align: right;\n",
       "    }\n",
       "</style>\n",
       "<table border=\"1\" class=\"dataframe\">\n",
       "  <thead>\n",
       "    <tr style=\"text-align: right;\">\n",
       "      <th></th>\n",
       "      <th>symbol</th>\n",
       "      <th>avgPrice</th>\n",
       "      <th>side</th>\n",
       "      <th>stopLoss</th>\n",
       "    </tr>\n",
       "  </thead>\n",
       "  <tbody>\n",
       "    <tr>\n",
       "      <th>0</th>\n",
       "      <td>XRPUSDT</td>\n",
       "      <td>0.3615</td>\n",
       "      <td>Buy</td>\n",
       "      <td></td>\n",
       "    </tr>\n",
       "  </tbody>\n",
       "</table>\n",
       "</div>"
      ],
      "text/plain": [
       "    symbol avgPrice side stopLoss\n",
       "0  XRPUSDT   0.3615  Buy         "
      ]
     },
     "execution_count": 33,
     "metadata": {},
     "output_type": "execute_result"
    }
   ],
   "source": [
    "df"
   ]
  }
 ],
 "metadata": {
  "kernelspec": {
   "display_name": "Python 3",
   "language": "python",
   "name": "python3"
  },
  "language_info": {
   "codemirror_mode": {
    "name": "ipython",
    "version": 3
   },
   "file_extension": ".py",
   "mimetype": "text/x-python",
   "name": "python",
   "nbconvert_exporter": "python",
   "pygments_lexer": "ipython3",
   "version": "3.10.0"
  },
  "orig_nbformat": 4
 },
 "nbformat": 4,
 "nbformat_minor": 2
}
